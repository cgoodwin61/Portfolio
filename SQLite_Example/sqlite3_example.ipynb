{
 "cells": [
  {
   "cell_type": "markdown",
   "metadata": {},
   "source": [
    "# Weeks 11 and 12 \n",
    "\n",
    "Chris Goodwin\n",
    "DSC540\n",
    "\n",
    "For this assignment, we will be completing Activity 11 from Data Wrangling with Python. Please note that I downloaded the shell of this .ipynb file from github.\n",
    "\n",
    "\n",
    "### Task 1: (Connect to the supplied petsDB, and (OPTIONAL) write a function to check if the connection is done)\n",
    "\n",
    "To do this, we will import the appropriate package and connect to it. We then will write a function to check if the connection is successful. If we are able to execute a simple statement, then the connection is successful. If we get an error message, we will print that error to the screen. "
   ]
  },
  {
   "cell_type": "code",
   "execution_count": 1,
   "metadata": {},
   "outputs": [],
   "source": [
    "import sqlite3"
   ]
  },
  {
   "cell_type": "code",
   "execution_count": 2,
   "metadata": {},
   "outputs": [],
   "source": [
    "pets = sqlite3.connect(\"petsdb\")"
   ]
  },
  {
   "cell_type": "code",
   "execution_count": 3,
   "metadata": {},
   "outputs": [],
   "source": [
    "def successful(connection):\n",
    "    try:\n",
    "        connection.execute(\"SELECT * FROM persons\")\n",
    "        print(\"Successful connection\")\n",
    "    except sqlite3.ProgrammingError as e:\n",
    "        print(\"Connection closed\", e)"
   ]
  },
  {
   "cell_type": "code",
   "execution_count": 4,
   "metadata": {},
   "outputs": [
    {
     "name": "stdout",
     "output_type": "stream",
     "text": [
      "Successful connection\n"
     ]
    }
   ],
   "source": [
    "successful(pets)"
   ]
  },
  {
   "cell_type": "code",
   "execution_count": 5,
   "metadata": {},
   "outputs": [],
   "source": [
    "pets.close()"
   ]
  },
  {
   "cell_type": "code",
   "execution_count": 6,
   "metadata": {},
   "outputs": [
    {
     "name": "stdout",
     "output_type": "stream",
     "text": [
      "Connection closed Cannot operate on a closed database.\n"
     ]
    }
   ],
   "source": [
    "successful(pets)"
   ]
  },
  {
   "cell_type": "markdown",
   "metadata": {},
   "source": [
    "As we can see from the call to our function, we established a connection to the pets database. We then closed the connection, ran our program again, and saw that we got an error message.\n",
    "\n",
    "### Task 2: (What are the different age groups in the persons database)\n",
    "\n",
    "Next we will determine the different age groups in the persons database. We will do this using a select statement."
   ]
  },
  {
   "cell_type": "code",
   "execution_count": 7,
   "metadata": {},
   "outputs": [],
   "source": [
    "pets = sqlite3.connect(\"petsdb\")"
   ]
  },
  {
   "cell_type": "code",
   "execution_count": 9,
   "metadata": {},
   "outputs": [
    {
     "name": "stdout",
     "output_type": "stream",
     "text": [
      "There are 2 people of age 5\n",
      "There are 1 people of age 6\n",
      "There are 1 people of age 7\n",
      "There are 3 people of age 8\n",
      "There are 1 people of age 9\n",
      "There are 2 people of age 11\n",
      "There are 3 people of age 12\n",
      "There are 1 people of age 13\n",
      "There are 4 people of age 14\n",
      "There are 2 people of age 16\n",
      "There are 2 people of age 17\n",
      "There are 3 people of age 18\n",
      "There are 1 people of age 19\n",
      "There are 3 people of age 22\n",
      "There are 2 people of age 23\n",
      "There are 3 people of age 24\n",
      "There are 2 people of age 25\n",
      "There are 1 people of age 27\n",
      "There are 1 people of age 30\n",
      "There are 3 people of age 31\n",
      "There are 1 people of age 32\n",
      "There are 1 people of age 33\n",
      "There are 2 people of age 34\n",
      "There are 3 people of age 35\n",
      "There are 3 people of age 36\n",
      "There are 1 people of age 37\n",
      "There are 2 people of age 39\n",
      "There are 1 people of age 40\n",
      "There are 1 people of age 42\n",
      "There are 2 people of age 44\n",
      "There are 2 people of age 48\n",
      "There are 1 people of age 49\n",
      "There are 1 people of age 50\n",
      "There are 2 people of age 51\n",
      "There are 2 people of age 52\n",
      "There are 2 people of age 53\n",
      "There are 2 people of age 54\n",
      "There are 1 people of age 58\n",
      "There are 1 people of age 59\n",
      "There are 1 people of age 60\n",
      "There are 1 people of age 61\n",
      "There are 2 people of age 62\n",
      "There are 1 people of age 63\n",
      "There are 2 people of age 65\n",
      "There are 2 people of age 66\n",
      "There are 1 people of age 67\n",
      "There are 3 people of age 68\n",
      "There are 1 people of age 69\n",
      "There are 1 people of age 70\n",
      "There are 4 people of age 71\n",
      "There are 1 people of age 72\n",
      "There are 5 people of age 73\n",
      "There are 3 people of age 74\n"
     ]
    }
   ],
   "source": [
    "task_2 = pets.execute(\"select count(age), age from persons group by age\")\n",
    "\n",
    "for group, age in task_2:\n",
    "    print(\"There are {} people of age {}\".format(group, age))"
   ]
  },
  {
   "cell_type": "markdown",
   "metadata": {},
   "source": [
    "### Task 3: Which age group has maximum number of people?\n",
    "\n",
    "This one is definitely more involved. In order to execute this, we will treat our previous call as its own table. By that I mean we will have a select statement within a select statement. We will select the ages and counts from the persons table, and then from that outcome will will select the max of the counts. We then print them to the screen accordingly."
   ]
  },
  {
   "cell_type": "code",
   "execution_count": 14,
   "metadata": {},
   "outputs": [
    {
     "name": "stdout",
     "output_type": "stream",
     "text": [
      "The largest age group is 73, with 5 entries\n"
     ]
    }
   ],
   "source": [
    "task_3 = pets.execute(\"select max(mycount), age from (select age, count(age) mycount from persons group by age)\")\n",
    "\n",
    "for count, age in task_3:\n",
    "    print(\"The largest age group is {}, with {} entries\".format(age, count))"
   ]
  },
  {
   "cell_type": "markdown",
   "metadata": {},
   "source": [
    "### Task 4: How many people do not have a full name (Last name is blank/null)\n",
    "\n",
    "For this one, we simply need a select statement that selects the count of entries where last_name is null. "
   ]
  },
  {
   "cell_type": "code",
   "execution_count": 18,
   "metadata": {},
   "outputs": [
    {
     "name": "stdout",
     "output_type": "stream",
     "text": [
      "(60,)\n"
     ]
    }
   ],
   "source": [
    "task_4 = pets.execute(\"select count(first_name) from persons where last_name is null\")\n",
    "\n",
    "for row in task_4:\n",
    "    print(row)"
   ]
  },
  {
   "cell_type": "markdown",
   "metadata": {},
   "source": [
    "### Task 5: How many people has more than one pet? (*)\n",
    "\n",
    "Once again here we execute a select statement within a select statement. We select the count of how many time each owner ID appears in the pets table, and then from that grouping we select the number of instances where someone has > 1 pets.\n",
    "\n",
    "From the previous task, we know that the result will be a tuple, with the first value as the count and the second value as null. Therefore when we print, we want only the first value."
   ]
  },
  {
   "cell_type": "code",
   "execution_count": 23,
   "metadata": {},
   "outputs": [
    {
     "name": "stdout",
     "output_type": "stream",
     "text": [
      "There are 43 people with more than one pet.\n"
     ]
    }
   ],
   "source": [
    "task_5 = pets.execute(\"SELECT count(*) FROM (SELECT count(owner_id) mycount FROM pets GROUP BY owner_id) where mycount > 1\")\n",
    "\n",
    "for row in task_5:\n",
    "    print(\"There are {} people with more than one pet.\".format(row[0]))"
   ]
  },
  {
   "cell_type": "markdown",
   "metadata": {},
   "source": [
    "### Task 6: How many pets have received treaments?\n",
    "\n",
    "Based on the textbook, if the pet had treatment done, then treatment_done = 1. If pet type is known, then pet_type will be not null. Therefore we just need a select statement where treatment_done = 1, and then a second statement where treatment_done = 1 and pet_type is not null."
   ]
  },
  {
   "cell_type": "code",
   "execution_count": 26,
   "metadata": {},
   "outputs": [
    {
     "name": "stdout",
     "output_type": "stream",
     "text": [
      "36 overall pets have received treatments\n"
     ]
    }
   ],
   "source": [
    "task_6 = pets.execute(\"select count(*) from pets where treatment_done = 1\")\n",
    "\n",
    "for row in task_6:\n",
    "    print(\"{} overall pets have received treatments\".format(row[0]))"
   ]
  },
  {
   "cell_type": "markdown",
   "metadata": {},
   "source": [
    "### Task 7: How many pets have received treatment that we know the type of?"
   ]
  },
  {
   "cell_type": "code",
   "execution_count": 27,
   "metadata": {},
   "outputs": [
    {
     "name": "stdout",
     "output_type": "stream",
     "text": [
      "16 known pets have received treatments\n"
     ]
    }
   ],
   "source": [
    "task_7 = pets.execute(\"select count(*) from pets where treatment_done = 1 and pet_type is not null\")\n",
    "\n",
    "for row in task_7:\n",
    "    print(\"{} known pets have received treatments\".format(row[0]))"
   ]
  },
  {
   "cell_type": "markdown",
   "metadata": {},
   "source": [
    "### Task 8: How many pets are there from the city called \"east port\"\n",
    "\n",
    "For this one, we have to join the two tables together. We join the tables where pets.owner_id = persons.id and then we limit it to only those persons whose city is \"east port\""
   ]
  },
  {
   "cell_type": "code",
   "execution_count": 30,
   "metadata": {},
   "outputs": [
    {
     "name": "stdout",
     "output_type": "stream",
     "text": [
      "There are 49 pets from the city east port.\n"
     ]
    }
   ],
   "source": [
    "task_8 = pets.execute(\"select count(*) from pets p1, persons p2 where p1.owner_id = p2.id and p2.city = 'east port' \")\n",
    "\n",
    "for row in task_8:\n",
    "    print(\"There are {} pets from the city east port.\".format(row[0]))"
   ]
  },
  {
   "cell_type": "markdown",
   "metadata": {},
   "source": [
    "### Task 9: How many pets are there from the city called \"east port\" and who received a treatment?\n",
    "\n",
    "This is very similar to the previous task. The only difference is that we have to add an additional limit, where pets.treatment_done = 1"
   ]
  },
  {
   "cell_type": "code",
   "execution_count": 31,
   "metadata": {},
   "outputs": [
    {
     "name": "stdout",
     "output_type": "stream",
     "text": [
      "There are 11 pets from the city east port who have received treatment.\n"
     ]
    }
   ],
   "source": [
    "task_9 = pets.execute(\"select count(*) from pets p1, persons p2 where p1.owner_id = p2.id and p2.city = 'east port' and p1.treatment_done = 1\")\n",
    "\n",
    "for row in task_9:\n",
    "    print(\"There are {} pets from the city east port who have received treatment.\".format(row[0]))"
   ]
  },
  {
   "cell_type": "code",
   "execution_count": null,
   "metadata": {},
   "outputs": [],
   "source": []
  }
 ],
 "metadata": {
  "kernelspec": {
   "display_name": "Python 3",
   "language": "python",
   "name": "python3"
  },
  "language_info": {
   "codemirror_mode": {
    "name": "ipython",
    "version": 3
   },
   "file_extension": ".py",
   "mimetype": "text/x-python",
   "name": "python",
   "nbconvert_exporter": "python",
   "pygments_lexer": "ipython3",
   "version": "3.7.4"
  }
 },
 "nbformat": 4,
 "nbformat_minor": 2
}
